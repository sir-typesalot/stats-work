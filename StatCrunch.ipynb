{
 "cells": [
  {
   "cell_type": "code",
   "execution_count": 19,
   "id": "51b5a276",
   "metadata": {},
   "outputs": [
    {
     "name": "stdout",
     "output_type": "stream",
     "text": [
      "1.5171951293772534\n",
      "          Country  Price\n",
      "11          Egypt   1.89\n",
      "5          Russia   2.29\n",
      "2          Mexico   2.59\n",
      "10          India   2.82\n",
      "3           China   3.20\n",
      "4           Japan   3.35\n",
      "9         Britain   4.40\n",
      "8           Spain   4.84\n",
      "7           Italy   5.12\n",
      "1          Canada   5.30\n",
      "0   United States   5.34\n",
      "6     Switzerland   6.81\n",
      "3.875\n"
     ]
    }
   ],
   "source": [
    "import pandas as pd\n",
    "df = pd.read_csv('data.csv')\n",
    "print(df['Price'].std())\n",
    "print(df.sort_values(by='Price', ascending=True))\n",
    "print(df['Price'].median())"
   ]
  },
  {
   "cell_type": "code",
   "execution_count": 26,
   "id": "a014e82d",
   "metadata": {
    "scrolled": true
   },
   "outputs": [
    {
     "name": "stdout",
     "output_type": "stream",
     "text": [
      "9.858\n",
      "7.85\n",
      "7.253291722819822\n",
      "4.35\n",
      "13.9\n",
      "9.55\n"
     ]
    },
    {
     "data": {
      "text/plain": [
       "<Axes: >"
      ]
     },
     "execution_count": 26,
     "metadata": {},
     "output_type": "execute_result"
    },
    {
     "data": {
      "image/png": "[encoded data removed]",
      "text/plain": [
       "<Figure size 640x480 with 1 Axes>"
      ]
     },
     "metadata": {},
     "output_type": "display_data"
    }
   ],
   "source": [
    "import pandas as pd\n",
    "import numpy as np\n",
    "df = pd.read_csv('data.csv')\n",
    "print(df['Change'].mean())\n",
    "print(df['Change'].median())\n",
    "print(df['Change'].std())\n",
    "q3, q1 = np.percentile(df['Change'], [75 ,25])\n",
    "print(q1)\n",
    "print(q3)\n",
    "iqr = q3 - q1\n",
    "print(iqr)\n",
    "df[\"Change\"].hist(bins=[0,5,10,15,20,25,30,35,40])"
   ]
  },
  {
   "cell_type": "code",
   "execution_count": null,
   "id": "fa947ab9",
   "metadata": {},
   "outputs": [],
   "source": []
  },
  {
   "cell_type": "code",
   "execution_count": null,
   "id": "28aac9b2",
   "metadata": {},
   "outputs": [],
   "source": []
  }
 ],
 "metadata": {
  "kernelspec": {
   "display_name": "Python 3 (ipykernel)",
   "language": "python",
   "name": "python3"
  },
  "language_info": {
   "codemirror_mode": {
    "name": "ipython",
    "version": 3
   },
   "file_extension": ".py",
   "mimetype": "text/x-python",
   "name": "python",
   "nbconvert_exporter": "python",
   "pygments_lexer": "ipython3",
   "version": "3.9.13"
  }
 },
 "nbformat": 4,
 "nbformat_minor": 5
}
